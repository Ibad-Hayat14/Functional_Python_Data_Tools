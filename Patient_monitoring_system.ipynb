{
 "cells": [
  {
   "cell_type": "code",
   "execution_count": null,
   "id": "0ddb8d8a",
   "metadata": {},
   "outputs": [],
   "source": [
    "from functools import reduce\n",
    "\n",
    "# Raw Patient Data\n",
    "patients = [\n",
    "    {\"name\": \" ibad\", \"temp\": 38.5, \"hr\": 90, \"oxygen\": 97},\n",
    "    {\"name\": \"ayesha\", \"temp\": 40.2, \"hr\": 110, \"oxygen\": 85},\n",
    "    {\"name\": \"salman\", \"temp\": 36.8, \"hr\": 75, \"oxygen\": 98},\n",
    "    {\"name\": \"maria\", \"temp\": 35.0, \"hr\": 60, \"oxygen\": 92}\n",
    "]\n",
    "\n",
    "# Clean Names\n",
    "for p in patients:\n",
    "    p[\"name\"] = p[\"name\"].strip().title()\n",
    "\n",
    "# Tag Status Using Map\n",
    "def check_status(p):\n",
    "    temp_critical = p[\"temp\"] > 39 or p[\"temp\"] < 35\n",
    "    hr_critical = p[\"hr\"] > 100 or p[\"hr\"] < 60\n",
    "    oxygen_critical = p[\"oxygen\"] < 90\n",
    "\n",
    "    p[\"status\"] = \"Critical\" if temp_critical or hr_critical or oxygen_critical else \"Stable\"\n",
    "    return p\n",
    "\n",
    "patients = list(map(check_status, patients))\n",
    "\n",
    "# Generator for Alerts\n",
    "def alert_generator(patients):\n",
    "    for p in patients:\n",
    "        if p[\"status\"] == \"Critical\":\n",
    "            yield f\" Alert: {p['name']} needs immediate attention!\"\n",
    "\n",
    "# Summary with Reduce\n",
    "total_temp = reduce(lambda acc, p: acc + p[\"temp\"], patients, 0)\n",
    "avg_temp = total_temp / len(patients)\n",
    "\n",
    "# Report\n",
    "print(\" Patient Monitoring Summary\\n\")\n",
    "for p in patients:\n",
    "    print(f\"{p['name']} | Temp: {p['temp']}°C | HR: {p['hr']} bpm | O2: {p['oxygen']}% | Status: {p['status']}\")\n",
    "\n",
    "print(\"\\n Alerts:\")\n",
    "for alert in alert_generator(patients):\n",
    "    print(alert)\n",
    "\n",
    "print(f\"\\n Average Temperature of Patients: {avg_temp:.2f}°C\")\n"
   ]
  },
  {
   "cell_type": "code",
   "execution_count": null,
   "id": "4063cfbe",
   "metadata": {},
   "outputs": [],
   "source": []
  }
 ],
 "metadata": {
  "language_info": {
   "name": "python"
  }
 },
 "nbformat": 4,
 "nbformat_minor": 5
}
